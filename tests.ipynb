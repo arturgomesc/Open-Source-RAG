{
 "cells": [
  {
   "cell_type": "markdown",
   "source": [
    "## Correct Imports"
   ],
   "metadata": {
    "collapsed": false
   },
   "id": "5cd10e19f9e427de"
  },
  {
   "cell_type": "code",
   "execution_count": 1,
   "id": "initial_id",
   "metadata": {
    "collapsed": true,
    "ExecuteTime": {
     "end_time": "2024-07-04T20:55:16.298472617Z",
     "start_time": "2024-07-04T20:48:51.576308039Z"
    }
   },
   "outputs": [
    {
     "name": "stdout",
     "output_type": "stream",
     "text": [
      "\r\n",
      "\u001B[1m[\u001B[0m\u001B[34;49mnotice\u001B[0m\u001B[1;39;49m]\u001B[0m\u001B[39;49m A new release of pip is available: \u001B[0m\u001B[31;49m24.0\u001B[0m\u001B[39;49m -> \u001B[0m\u001B[32;49m24.1.1\u001B[0m\r\n",
      "\u001B[1m[\u001B[0m\u001B[34;49mnotice\u001B[0m\u001B[1;39;49m]\u001B[0m\u001B[39;49m To update, run: \u001B[0m\u001B[32;49mpip install --upgrade pip\u001B[0m\r\n",
      "Note: you may need to restart the kernel to use updated packages.\n"
     ]
    }
   ],
   "source": [
    "%pip install --upgrade --quiet  langchain langchain_community langchain-huggingface sentence_transformers pypdf python-dotenv faiss-cpu tiktoken"
   ]
  },
  {
   "cell_type": "markdown",
   "source": [
    "## First tests"
   ],
   "metadata": {
    "collapsed": false
   },
   "id": "79f556f70dccb75f"
  },
  {
   "cell_type": "code",
   "outputs": [],
   "source": [
    "from langchain_community.document_loaders import PyPDFLoader\n",
    "\n",
    "loader = PyPDFLoader(\"human-rights.pdf\")\n",
    "pages = loader.load()"
   ],
   "metadata": {
    "collapsed": false,
    "ExecuteTime": {
     "end_time": "2024-07-04T23:10:08.390523457Z",
     "start_time": "2024-07-04T23:10:08.325409118Z"
    }
   },
   "id": "f395e6609771e9ce",
   "execution_count": 11
  },
  {
   "cell_type": "code",
   "outputs": [
    {
     "data": {
      "text/plain": "list"
     },
     "execution_count": 12,
     "metadata": {},
     "output_type": "execute_result"
    }
   ],
   "source": [
    "from langchain.text_splitter import RecursiveCharacterTextSplitter\n",
    "\n",
    "text_splitter = RecursiveCharacterTextSplitter(\n",
    "    chunk_size=100,\n",
    "    chunk_overlap=20,\n",
    "    length_function=len,\n",
    "    is_separator_regex=False\n",
    ")\n",
    "\n",
    "texts = text_splitter.split_documents(pages)\n",
    "type(texts)"
   ],
   "metadata": {
    "collapsed": false,
    "ExecuteTime": {
     "end_time": "2024-07-04T23:10:09.103654497Z",
     "start_time": "2024-07-04T23:10:09.098843722Z"
    }
   },
   "id": "e0c89feb73439458",
   "execution_count": 12
  },
  {
   "cell_type": "code",
   "outputs": [],
   "source": [
    "from langchain_community.embeddings import HuggingFaceBgeEmbeddings\n",
    "\n",
    "model_name = \"BAAI/bge-small-en\"\n",
    "model_kwargs = {\"device\": \"cpu\"}\n",
    "encode_kwargs = {\"normalize_embeddings\": True}\n",
    "hf = HuggingFaceBgeEmbeddings(\n",
    "    model_name=model_name, model_kwargs=model_kwargs, encode_kwargs=encode_kwargs\n",
    ")"
   ],
   "metadata": {
    "collapsed": false,
    "ExecuteTime": {
     "end_time": "2024-07-04T23:10:14.953823859Z",
     "start_time": "2024-07-04T23:10:10.201718269Z"
    }
   },
   "id": "38984b2aaa82a05",
   "execution_count": 13
  },
  {
   "cell_type": "code",
   "outputs": [],
   "source": [
    "from langchain_community.vectorstores import Chroma\n",
    "# create vectorstore\n",
    "vectorstore = Chroma.from_documents(documents=texts, embedding=hf, persist_directory=\"./chroma_db\")"
   ],
   "metadata": {
    "collapsed": false,
    "ExecuteTime": {
     "end_time": "2024-07-04T23:11:31.634022401Z",
     "start_time": "2024-07-04T23:11:30.528741602Z"
    }
   },
   "id": "d552a559f40515f2",
   "execution_count": 24
  },
  {
   "cell_type": "code",
   "outputs": [
    {
     "data": {
      "text/plain": "<langchain_community.vectorstores.chroma.Chroma at 0x7d5380e7b190>"
     },
     "execution_count": 15,
     "metadata": {},
     "output_type": "execute_result"
    }
   ],
   "source": [
    "# load from disk\n",
    "db3 = Chroma(persist_directory=\"./chroma_db\", embedding_function=hf)"
   ],
   "metadata": {
    "collapsed": false,
    "ExecuteTime": {
     "end_time": "2024-07-04T23:10:20.087452745Z",
     "start_time": "2024-07-04T23:10:20.046580395Z"
    }
   },
   "id": "ed019b8a6da7ffc",
   "execution_count": 15
  },
  {
   "cell_type": "code",
   "outputs": [],
   "source": [
    "retriever = vectorstore.as_retriever()"
   ],
   "metadata": {
    "collapsed": false,
    "ExecuteTime": {
     "end_time": "2024-07-04T23:38:53.827099807Z",
     "start_time": "2024-07-04T23:38:53.817784397Z"
    }
   },
   "id": "7fd2b79c34b2ec09",
   "execution_count": 32
  },
  {
   "cell_type": "code",
   "outputs": [],
   "source": [
    "from langchain_community.llms import HuggingFaceHub\n",
    "from dotenv import load_dotenv\n",
    "import os\n",
    "\n",
    "load_dotenv()\n",
    "\n",
    "huggingface_token = os.getenv(\"HUGGINGFACEHUB_API_TOKEN\")\n",
    "\n",
    "llm = HuggingFaceHub(\n",
    "    repo_id=\"huggingfaceh4/zephyr-7b-alpha\",\n",
    "    model_kwargs={\n",
    "        \"max_new_tokens\":512,\n",
    "        \"repetition_penalty\": 1.1,\n",
    "        \"temperature\": 0.2,\n",
    "        \"top_p\": 0.5,\n",
    "        \"return_full_text\":False\n",
    "    }\n",
    ")"
   ],
   "metadata": {
    "collapsed": false,
    "ExecuteTime": {
     "end_time": "2024-07-04T23:25:20.496422424Z",
     "start_time": "2024-07-04T23:25:20.050045541Z"
    }
   },
   "id": "c02deb654e569ddb",
   "execution_count": 28
  },
  {
   "cell_type": "code",
   "outputs": [],
   "source": [
    "template =  \"\"\"\n",
    "User: You are an AI Assistant that follows instructions extremely well.\n",
    "Please be truthful and give direct answers. Please tell 'I don't know' if user query is not in CONTEXT\n",
    "\n",
    "Keep in mind, you will lose the job, if you answer out of CONTEXT questions\n",
    "\n",
    "\n",
    "CONTEXT: {context}\n",
    "Query: {question}\n",
    "\n",
    "Remember only return AI answer\n",
    "Assistant:\n",
    "\"\"\""
   ],
   "metadata": {
    "collapsed": false,
    "ExecuteTime": {
     "end_time": "2024-07-04T23:41:28.663963576Z",
     "start_time": "2024-07-04T23:41:28.660027015Z"
    }
   },
   "id": "ede33d5518c0afd9",
   "execution_count": 36
  },
  {
   "cell_type": "code",
   "outputs": [],
   "source": [
    "from langchain_core.prompts import ChatPromptTemplate\n",
    "from langchain.schema import StrOutputParser\n",
    "from langchain_core.runnables import RunnablePassthrough\n",
    "\n",
    "prompt = ChatPromptTemplate.from_template(template)\n",
    "output_parser = StrOutputParser()\n",
    "\n",
    "chain = (\n",
    "    {\n",
    "        \"context\": retriever.with_config(run_name=\"Docs\"),\n",
    "        \"question\": RunnablePassthrough(),\n",
    "    }\n",
    "    | prompt\n",
    "    | llm\n",
    "    | output_parser\n",
    ")"
   ],
   "metadata": {
    "collapsed": false,
    "ExecuteTime": {
     "end_time": "2024-07-04T23:41:29.330469139Z",
     "start_time": "2024-07-04T23:41:29.324362772Z"
    }
   },
   "id": "9b9a1840e3c9d0c6",
   "execution_count": 37
  },
  {
   "cell_type": "code",
   "outputs": [],
   "source": [
    "answer = chain.invoke(\"What the Article 10 says?\")"
   ],
   "metadata": {
    "collapsed": false,
    "ExecuteTime": {
     "end_time": "2024-07-04T23:41:32.740382225Z",
     "start_time": "2024-07-04T23:41:30.116700548Z"
    }
   },
   "id": "812afa86fa3748a3",
   "execution_count": 38
  },
  {
   "cell_type": "code",
   "outputs": [
    {
     "data": {
      "text/plain": "'According to the given context, Article 10 states \"Everyone is entitled in full equality to a fair and public hearing by an independent tribunal in the determination of his rights and obligations and of any criminal charge against him.\"'"
     },
     "execution_count": 39,
     "metadata": {},
     "output_type": "execute_result"
    }
   ],
   "source": [
    "answer"
   ],
   "metadata": {
    "collapsed": false,
    "ExecuteTime": {
     "end_time": "2024-07-04T23:41:40.569771638Z",
     "start_time": "2024-07-04T23:41:40.560885078Z"
    }
   },
   "id": "cc7e60a81db1b36e",
   "execution_count": 39
  }
 ],
 "metadata": {
  "kernelspec": {
   "display_name": "Python 3",
   "language": "python",
   "name": "python3"
  },
  "language_info": {
   "codemirror_mode": {
    "name": "ipython",
    "version": 2
   },
   "file_extension": ".py",
   "mimetype": "text/x-python",
   "name": "python",
   "nbconvert_exporter": "python",
   "pygments_lexer": "ipython2",
   "version": "2.7.6"
  }
 },
 "nbformat": 4,
 "nbformat_minor": 5
}
